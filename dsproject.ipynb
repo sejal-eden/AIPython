{
 "cells": [
  {
   "cell_type": "code",
   "execution_count": 1,
   "metadata": {},
   "outputs": [
    {
     "name": "stdout",
     "output_type": "stream",
     "text": [
      "[1, 2, 3, 4, 5, 6, 1]\n"
     ]
    }
   ],
   "source": [
    "numbers1 = [1,2,3,4,5,6]\n",
    "numbers2 = [10,20,30,40,50,60]\n",
    "numbers1.append(1)\n",
    "print(numbers1)"
   ]
  },
  {
   "cell_type": "code",
   "execution_count": 2,
   "metadata": {},
   "outputs": [
    {
     "name": "stdout",
     "output_type": "stream",
     "text": [
      "c++\n"
     ]
    }
   ],
   "source": [
    "myTuple=(\"c\",\"c++\",\"python\")\n",
    "print(myTuple[1])"
   ]
  },
  {
   "cell_type": "code",
   "execution_count": 4,
   "metadata": {},
   "outputs": [
    {
     "name": "stdout",
     "output_type": "stream",
     "text": [
      "{'c': 'easy', 'c++': 'moderate', 'java': 'tough'}\n",
      "{'c': 'easy', 'java': 'tough'}\n"
     ]
    }
   ],
   "source": [
    "myDict={\n",
    "    \"c\":\"easy\",\n",
    "    \"c++\":\"moderate\",\n",
    "    \"java\":\"tough\"\n",
    "}\n",
    "print(myDict)\n",
    "del myDict[\"c++\"]\n",
    "print(myDict)"
   ]
  },
  {
   "cell_type": "code",
   "execution_count": null,
   "metadata": {},
   "outputs": [],
   "source": []
  }
 ],
 "metadata": {
  "kernelspec": {
   "display_name": "Python 3",
   "language": "python",
   "name": "python3"
  },
  "language_info": {
   "codemirror_mode": {
    "name": "ipython",
    "version": 3
   },
   "file_extension": ".py",
   "mimetype": "text/x-python",
   "name": "python",
   "nbconvert_exporter": "python",
   "pygments_lexer": "ipython3",
   "version": "3.8.5"
  }
 },
 "nbformat": 4,
 "nbformat_minor": 4
}
